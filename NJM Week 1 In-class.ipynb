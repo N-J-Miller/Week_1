{
 "cells": [
  {
   "cell_type": "markdown",
   "id": "25f641a7",
   "metadata": {},
   "source": [
    "# **Data Types**"
   ]
  },
  {
   "cell_type": "code",
   "execution_count": 1,
   "id": "8952277f",
   "metadata": {},
   "outputs": [],
   "source": [
    "# There are five types of data: Numeric, Dictionary, Boolean, Sequence, and Set\n",
    "# I will be providing an example of each data type and printing that type\n",
    "# WindowsOS hotkey for Run cells is shift-enter"
   ]
  },
  {
   "cell_type": "markdown",
   "id": "2420c9f5",
   "metadata": {},
   "source": [
    "## Numeric Data"
   ]
  },
  {
   "cell_type": "code",
   "execution_count": 2,
   "id": "b5e945e8",
   "metadata": {},
   "outputs": [
    {
     "name": "stdout",
     "output_type": "stream",
     "text": [
      "<class 'int'>\n"
     ]
    }
   ],
   "source": [
    "# integers, which are whole numbers as in:\n",
    "x = 5\n",
    "print(type(x))"
   ]
  },
  {
   "cell_type": "code",
   "execution_count": 3,
   "id": "ac7fd5d4",
   "metadata": {},
   "outputs": [
    {
     "name": "stdout",
     "output_type": "stream",
     "text": [
      "<class 'float'>\n"
     ]
    }
   ],
   "source": [
    "# floating point data, or floats, are numbers including decimals as in:\n",
    "y = 5.8\n",
    "print(type(y))"
   ]
  },
  {
   "cell_type": "markdown",
   "id": "eefee921",
   "metadata": {},
   "source": [
    "## Dictionaries"
   ]
  },
  {
   "cell_type": "code",
   "execution_count": 4,
   "id": "7584c268",
   "metadata": {},
   "outputs": [
    {
     "ename": "SyntaxError",
     "evalue": "invalid syntax (Temp/ipykernel_3936/1700693470.py, line 2)",
     "output_type": "error",
     "traceback": [
      "\u001b[1;36m  File \u001b[1;32m\"C:\\Users\\Nik\\AppData\\Local\\Temp/ipykernel_3936/1700693470.py\"\u001b[1;36m, line \u001b[1;32m2\u001b[0m\n\u001b[1;33m    game franchises = {\"Mass Effect\":4,\u001b[0m\n\u001b[1;37m         ^\u001b[0m\n\u001b[1;31mSyntaxError\u001b[0m\u001b[1;31m:\u001b[0m invalid syntax\n"
     ]
    }
   ],
   "source": [
    "# Dictionaries are key:value pairs. \n",
    "#The key can be almost any type, the value can by any object, as in:\n",
    "game franchises = {\"Mass Effect\":4,\n",
    "                  \"Tomb Raider\":13,\n",
    "                  \"The Sims\":4}\n",
    "print(game franchises[\"Tomb Raider\"])"
   ]
  },
  {
   "cell_type": "code",
   "execution_count": 5,
   "id": "c3a51f6f",
   "metadata": {},
   "outputs": [
    {
     "name": "stdout",
     "output_type": "stream",
     "text": [
      "13\n"
     ]
    }
   ],
   "source": [
    "game_franchises = {\"Mass Effect\": 4,\n",
    "                  \"Tomb Raider\":13,\n",
    "                  \"The Sims\":4}\n",
    "print(game_franchises[\"Tomb Raider\"])"
   ]
  },
  {
   "cell_type": "code",
   "execution_count": 6,
   "id": "449cc9d6",
   "metadata": {},
   "outputs": [
    {
     "name": "stdout",
     "output_type": "stream",
     "text": [
      "4\n"
     ]
    }
   ],
   "source": [
    "# Apparently spaces are unnaceptable in dictionary keys. :)\n",
    "print(game_franchises[\"The Sims\"])"
   ]
  },
  {
   "cell_type": "markdown",
   "id": "ab66db0a",
   "metadata": {},
   "source": [
    "## Boolean"
   ]
  },
  {
   "cell_type": "code",
   "execution_count": 7,
   "id": "3bb3b35d",
   "metadata": {},
   "outputs": [
    {
     "name": "stdout",
     "output_type": "stream",
     "text": [
      "<class 'bool'>\n"
     ]
    }
   ],
   "source": [
    "# Bool data is a type with binary values: true or false. \n",
    "# Named for mathematician George Boole\n",
    "\n",
    "is_true = False\n",
    "print(type(is_true))"
   ]
  },
  {
   "cell_type": "code",
   "execution_count": 8,
   "id": "94791f9a",
   "metadata": {},
   "outputs": [
    {
     "ename": "NameError",
     "evalue": "name 't' is not defined",
     "output_type": "error",
     "traceback": [
      "\u001b[1;31m---------------------------------------------------------------------------\u001b[0m",
      "\u001b[1;31mNameError\u001b[0m                                 Traceback (most recent call last)",
      "\u001b[1;32m~\\AppData\\Local\\Temp/ipykernel_3936/2737934421.py\u001b[0m in \u001b[0;36m<module>\u001b[1;34m\u001b[0m\n\u001b[1;32m----> 1\u001b[1;33m \u001b[0ma\u001b[0m \u001b[1;33m=\u001b[0m \u001b[0mt\u001b[0m\u001b[1;33m\u001b[0m\u001b[1;33m\u001b[0m\u001b[0m\n\u001b[0m\u001b[0;32m      2\u001b[0m \u001b[0mprint\u001b[0m\u001b[1;33m(\u001b[0m\u001b[0mtype\u001b[0m\u001b[1;33m(\u001b[0m\u001b[0ma\u001b[0m\u001b[1;33m)\u001b[0m\u001b[1;33m)\u001b[0m\u001b[1;33m\u001b[0m\u001b[1;33m\u001b[0m\u001b[0m\n",
      "\u001b[1;31mNameError\u001b[0m: name 't' is not defined"
     ]
    }
   ],
   "source": [
    "a = t\n",
    "print(type(a))"
   ]
  },
  {
   "cell_type": "code",
   "execution_count": 9,
   "id": "a8dfae05",
   "metadata": {},
   "outputs": [
    {
     "ename": "NameError",
     "evalue": "name 'true' is not defined",
     "output_type": "error",
     "traceback": [
      "\u001b[1;31m---------------------------------------------------------------------------\u001b[0m",
      "\u001b[1;31mNameError\u001b[0m                                 Traceback (most recent call last)",
      "\u001b[1;32m~\\AppData\\Local\\Temp/ipykernel_3936/3791478675.py\u001b[0m in \u001b[0;36m<module>\u001b[1;34m\u001b[0m\n\u001b[0;32m      1\u001b[0m \u001b[1;31m# t does not stand in for True in Python\u001b[0m\u001b[1;33m\u001b[0m\u001b[1;33m\u001b[0m\u001b[0m\n\u001b[0;32m      2\u001b[0m \u001b[1;33m\u001b[0m\u001b[0m\n\u001b[1;32m----> 3\u001b[1;33m \u001b[0ma\u001b[0m \u001b[1;33m=\u001b[0m \u001b[0mtrue\u001b[0m\u001b[1;33m\u001b[0m\u001b[1;33m\u001b[0m\u001b[0m\n\u001b[0m\u001b[0;32m      4\u001b[0m \u001b[0mprint\u001b[0m\u001b[1;33m(\u001b[0m\u001b[0mtype\u001b[0m\u001b[1;33m(\u001b[0m\u001b[0ma\u001b[0m\u001b[1;33m)\u001b[0m\u001b[1;33m)\u001b[0m\u001b[1;33m\u001b[0m\u001b[1;33m\u001b[0m\u001b[0m\n",
      "\u001b[1;31mNameError\u001b[0m: name 'true' is not defined"
     ]
    }
   ],
   "source": [
    "# Note: t does not stand in for True in Python\n",
    "\n",
    "a = true\n",
    "print(type(a))"
   ]
  },
  {
   "cell_type": "code",
   "execution_count": 10,
   "id": "b85b0d19",
   "metadata": {},
   "outputs": [
    {
     "name": "stdout",
     "output_type": "stream",
     "text": [
      "<class 'bool'>\n"
     ]
    }
   ],
   "source": [
    "# trying that again...case seems to matter\n",
    "\n",
    "a = True\n",
    "print(type(a))"
   ]
  },
  {
   "cell_type": "code",
   "execution_count": 11,
   "id": "cf8cc672",
   "metadata": {},
   "outputs": [
    {
     "name": "stdout",
     "output_type": "stream",
     "text": [
      "<class 'bool'>\n"
     ]
    }
   ],
   "source": [
    "b = False\n",
    "print(type(b))"
   ]
  },
  {
   "cell_type": "markdown",
   "id": "c9bfa91d",
   "metadata": {},
   "source": [
    "## Sets"
   ]
  },
  {
   "cell_type": "code",
   "execution_count": 12,
   "id": "8e080401",
   "metadata": {},
   "outputs": [
    {
     "name": "stdout",
     "output_type": "stream",
     "text": [
      "{'Rocco', 'Loki', 'Jasmine', 'Gable'}\n"
     ]
    }
   ],
   "source": [
    "# Sets have UNORDERED, UNCHANGEABLE (immutable) values\n",
    "dogs_set = {\"Gable\", \"Jasmine\", \"Loki\", \"Rocco\"}\n",
    "print(dogs_set)"
   ]
  },
  {
   "cell_type": "code",
   "execution_count": 13,
   "id": "7f58c74a",
   "metadata": {},
   "outputs": [
    {
     "name": "stdout",
     "output_type": "stream",
     "text": [
      "{'Loki', 'Jasmine', 'Rocco', 'Hercules', 'Gable'}\n"
     ]
    }
   ],
   "source": [
    "# can add items to a set (but only if it's not there yet)\n",
    "dogs_set.add(\"Hercules\")\n",
    "\n",
    "print(dogs_set)"
   ]
  },
  {
   "cell_type": "code",
   "execution_count": 14,
   "id": "e551285a",
   "metadata": {},
   "outputs": [
    {
     "name": "stdout",
     "output_type": "stream",
     "text": [
      "{'Loki', 'Xena', 'Jasmine', 'Rocco', 'Hercules', 'Gable'}\n"
     ]
    }
   ],
   "source": [
    "# Mentor Alexis noted in class how set values were alphabetized, but mine never are:\n",
    "\n",
    "dogs_set.add(\"Xena\")\n",
    "\n",
    "print(dogs_set)"
   ]
  },
  {
   "cell_type": "markdown",
   "id": "e9f4e7f4",
   "metadata": {},
   "source": [
    "## Lists"
   ]
  },
  {
   "cell_type": "code",
   "execution_count": 15,
   "id": "c07e2ab4",
   "metadata": {},
   "outputs": [
    {
     "data": {
      "text/plain": [
       "'Niki Jon'"
      ]
     },
     "execution_count": 15,
     "metadata": {},
     "output_type": "execute_result"
    }
   ],
   "source": [
    "# List values are CHANGEABLE and ORDERED\n",
    "# In code, order is counted 0, 1, 2, ...as in:\n",
    "siblings = [\"Chastity\",\"Niki Jon\", \"Aaron\"]\n",
    "siblings[1]"
   ]
  },
  {
   "cell_type": "code",
   "execution_count": 16,
   "id": "18121dd5",
   "metadata": {},
   "outputs": [
    {
     "data": {
      "text/plain": [
       "'Nicole'"
      ]
     },
     "execution_count": 16,
     "metadata": {},
     "output_type": "execute_result"
    }
   ],
   "source": [
    "# Note that objects in quotations can contain spaces\n",
    "# change a list like this:\n",
    "siblings[1] = \"Nicole\"\n",
    "\n",
    "siblings[1]"
   ]
  },
  {
   "cell_type": "markdown",
   "id": "074a942b",
   "metadata": {},
   "source": [
    "## Tuples"
   ]
  },
  {
   "cell_type": "code",
   "execution_count": 17,
   "id": "d0ddb674",
   "metadata": {},
   "outputs": [
    {
     "ename": "IndexError",
     "evalue": "tuple index out of range",
     "output_type": "error",
     "traceback": [
      "\u001b[1;31m---------------------------------------------------------------------------\u001b[0m",
      "\u001b[1;31mIndexError\u001b[0m                                Traceback (most recent call last)",
      "\u001b[1;32m~\\AppData\\Local\\Temp/ipykernel_3936/332427643.py\u001b[0m in \u001b[0;36m<module>\u001b[1;34m\u001b[0m\n\u001b[0;32m      3\u001b[0m MurderbotDiaries_tuple = (\"All Systems Red\", \"Artificial Condition\",\n\u001b[0;32m      4\u001b[0m                          \"Rogue Protocol\", \"Exit Strategy\", \"Network Effect\")\n\u001b[1;32m----> 5\u001b[1;33m \u001b[0mMurderbotDiaries_tuple\u001b[0m\u001b[1;33m[\u001b[0m\u001b[1;36m5\u001b[0m\u001b[1;33m]\u001b[0m\u001b[1;33m\u001b[0m\u001b[1;33m\u001b[0m\u001b[0m\n\u001b[0m",
      "\u001b[1;31mIndexError\u001b[0m: tuple index out of range"
     ]
    }
   ],
   "source": [
    "# Tuple values are ORDERED and IMMUTABLE\n",
    "\n",
    "MurderbotDiaries_tuple = (\"All Systems Red\", \"Artificial Condition\",\n",
    "                         \"Rogue Protocol\", \"Exit Strategy\", \"Network Effect\")\n",
    "MurderbotDiaries_tuple[5]"
   ]
  },
  {
   "cell_type": "code",
   "execution_count": 18,
   "id": "312a7ee3",
   "metadata": {},
   "outputs": [
    {
     "data": {
      "text/plain": [
       "'Network Effect'"
      ]
     },
     "execution_count": 18,
     "metadata": {},
     "output_type": "execute_result"
    }
   ],
   "source": [
    "# lol, forgot to start ordering with 0...\n",
    "\n",
    "MurderbotDiaries_tuple[4]"
   ]
  },
  {
   "cell_type": "code",
   "execution_count": 19,
   "id": "32ef63c5",
   "metadata": {},
   "outputs": [
    {
     "ename": "TypeError",
     "evalue": "'tuple' object does not support item assignment",
     "output_type": "error",
     "traceback": [
      "\u001b[1;31m---------------------------------------------------------------------------\u001b[0m",
      "\u001b[1;31mTypeError\u001b[0m                                 Traceback (most recent call last)",
      "\u001b[1;32m~\\AppData\\Local\\Temp/ipykernel_3936/1610044749.py\u001b[0m in \u001b[0;36m<module>\u001b[1;34m\u001b[0m\n\u001b[0;32m      1\u001b[0m \u001b[1;31m# Boom! Ok, let's TRY to change the immutable and see what happens:\u001b[0m\u001b[1;33m\u001b[0m\u001b[1;33m\u001b[0m\u001b[0m\n\u001b[0;32m      2\u001b[0m \u001b[1;33m\u001b[0m\u001b[0m\n\u001b[1;32m----> 3\u001b[1;33m \u001b[0mMurderbotDiaries_tuple\u001b[0m\u001b[1;33m[\u001b[0m\u001b[1;36m4\u001b[0m\u001b[1;33m]\u001b[0m \u001b[1;33m=\u001b[0m \u001b[1;34m\"Fugitive Telemetry\"\u001b[0m\u001b[1;33m\u001b[0m\u001b[1;33m\u001b[0m\u001b[0m\n\u001b[0m\u001b[0;32m      4\u001b[0m \u001b[1;33m\u001b[0m\u001b[0m\n\u001b[0;32m      5\u001b[0m \u001b[0mMurderbotDiaries_tuple\u001b[0m\u001b[1;33m[\u001b[0m\u001b[1;36m4\u001b[0m\u001b[1;33m]\u001b[0m\u001b[1;33m\u001b[0m\u001b[1;33m\u001b[0m\u001b[0m\n",
      "\u001b[1;31mTypeError\u001b[0m: 'tuple' object does not support item assignment"
     ]
    }
   ],
   "source": [
    "# Boom! Ok, let's TRY to change the immutable and see what happens:\n",
    "\n",
    "MurderbotDiaries_tuple[4] = \"Fugitive Telemetry\"\n",
    "\n",
    "MurderbotDiaries_tuple[4]"
   ]
  },
  {
   "cell_type": "code",
   "execution_count": 20,
   "id": "f7540ea2",
   "metadata": {},
   "outputs": [
    {
     "data": {
      "text/plain": [
       "'Network Effect'"
      ]
     },
     "execution_count": 20,
     "metadata": {},
     "output_type": "execute_result"
    }
   ],
   "source": [
    "# Ok! Seems like it worked (or DIDN'T work, as the case may be)\n",
    "# Let's see if I can get it to print 4 again:\n",
    "\n",
    "MurderbotDiaries_tuple[4]"
   ]
  },
  {
   "cell_type": "code",
   "execution_count": 21,
   "id": "d907a1a8",
   "metadata": {},
   "outputs": [
    {
     "name": "stdout",
     "output_type": "stream",
     "text": [
      "5\n"
     ]
    }
   ],
   "source": [
    "# Noted:one Output beyond the error and the attempted change is reverted.\n",
    "\n",
    "# len is Lenght of List, so I can ask how many books are in \n",
    "# the Murderbot Diaries, as in:\n",
    "\n",
    "print(len(MurderbotDiaries_tuple))"
   ]
  },
  {
   "cell_type": "code",
   "execution_count": 22,
   "id": "4adb605d",
   "metadata": {},
   "outputs": [
    {
     "ename": "AttributeError",
     "evalue": "'tuple' object has no attribute 'add'",
     "output_type": "error",
     "traceback": [
      "\u001b[1;31m---------------------------------------------------------------------------\u001b[0m",
      "\u001b[1;31mAttributeError\u001b[0m                            Traceback (most recent call last)",
      "\u001b[1;32m~\\AppData\\Local\\Temp/ipykernel_3936/1589665403.py\u001b[0m in \u001b[0;36m<module>\u001b[1;34m\u001b[0m\n\u001b[0;32m      3\u001b[0m \u001b[1;31m# I want to see if I can add to a tuple:\u001b[0m\u001b[1;33m\u001b[0m\u001b[1;33m\u001b[0m\u001b[0m\n\u001b[0;32m      4\u001b[0m \u001b[1;33m\u001b[0m\u001b[0m\n\u001b[1;32m----> 5\u001b[1;33m \u001b[0mMurderbotDiaries_tuple\u001b[0m\u001b[1;33m.\u001b[0m\u001b[0madd\u001b[0m\u001b[1;33m(\u001b[0m\u001b[1;34m\"Fugitive Telemetry\"\u001b[0m\u001b[1;33m)\u001b[0m\u001b[1;33m\u001b[0m\u001b[1;33m\u001b[0m\u001b[0m\n\u001b[0m",
      "\u001b[1;31mAttributeError\u001b[0m: 'tuple' object has no attribute 'add'"
     ]
    }
   ],
   "source": [
    "# Note that when COUNTING, I got 5 objects but ORDER would be 0,1,2,3,4\n",
    "\n",
    "# I want to see if I can add to a tuple:\n",
    "\n",
    "MurderbotDiaries_tuple.add(\"Fugitive Telemetry\")"
   ]
  },
  {
   "cell_type": "markdown",
   "id": "33974742",
   "metadata": {},
   "source": [
    "### *That is a negative, Ghost Rider! The Tuple is full!*\n",
    "\n",
    "### Note: neither print command  nor .add command creates a numbered Output line, but other commands do such asking for an element of a tuple or changing an element of a list."
   ]
  },
  {
   "cell_type": "code",
   "execution_count": null,
   "id": "0ebc1f07",
   "metadata": {},
   "outputs": [],
   "source": []
  }
 ],
 "metadata": {
  "kernelspec": {
   "display_name": "Python 3 (ipykernel)",
   "language": "python",
   "name": "python3"
  },
  "language_info": {
   "codemirror_mode": {
    "name": "ipython",
    "version": 3
   },
   "file_extension": ".py",
   "mimetype": "text/x-python",
   "name": "python",
   "nbconvert_exporter": "python",
   "pygments_lexer": "ipython3",
   "version": "3.9.7"
  }
 },
 "nbformat": 4,
 "nbformat_minor": 5
}
